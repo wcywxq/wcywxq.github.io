{
 "cells": [
  {
   "cell_type": "markdown",
   "metadata": {},
   "source": [
    "## 工具函数\n"
   ]
  },
  {
   "cell_type": "markdown",
   "metadata": {},
   "source": [
    "### 绝对值函数\n"
   ]
  },
  {
   "cell_type": "code",
   "execution_count": 19,
   "metadata": {},
   "outputs": [
    {
     "name": "stdout",
     "output_type": "stream",
     "text": [
      "绝对值函数: 100 120 12.34\n"
     ]
    }
   ],
   "source": [
    "print(\"绝对值函数:\", abs(100), abs(-120), abs(12.34))"
   ]
  },
  {
   "cell_type": "markdown",
   "metadata": {},
   "source": [
    "### 返回最大值\n"
   ]
  },
  {
   "cell_type": "code",
   "execution_count": 20,
   "metadata": {},
   "outputs": [
    {
     "name": "stdout",
     "output_type": "stream",
     "text": [
      "返回最大值: 2 3\n"
     ]
    }
   ],
   "source": [
    "print(\"返回最大值:\", max(1, 2), max(2, 3, 1, -5))"
   ]
  },
  {
   "cell_type": "markdown",
   "metadata": {},
   "source": [
    "### 返回最小值\n"
   ]
  },
  {
   "cell_type": "code",
   "execution_count": 21,
   "metadata": {},
   "outputs": [
    {
     "name": "stdout",
     "output_type": "stream",
     "text": [
      "返回最小值: 1 -5\n"
     ]
    }
   ],
   "source": [
    "print(\"返回最小值:\", min(1, 2), min(2, 3, 1, -5))"
   ]
  },
  {
   "cell_type": "markdown",
   "metadata": {},
   "source": [
    "### 进制转换\n"
   ]
  },
  {
   "cell_type": "code",
   "execution_count": 22,
   "metadata": {},
   "outputs": [
    {
     "name": "stdout",
     "output_type": "stream",
     "text": [
      "0xff 0x3e8\n"
     ]
    }
   ],
   "source": [
    "print(hex(255), hex(1000))"
   ]
  },
  {
   "cell_type": "markdown",
   "metadata": {},
   "source": [
    "## 数据类型转换\n"
   ]
  },
  {
   "cell_type": "code",
   "execution_count": 23,
   "metadata": {},
   "outputs": [
    {
     "name": "stdout",
     "output_type": "stream",
     "text": [
      "整型 int:  123 12 <class 'int'> <class 'int'>\n",
      "浮点型 float:  12.34 <class 'float'>\n",
      "字符型 str:  1.23 <class 'str'> 100 <class 'str'>\n",
      "布尔型 bool:  True <class 'bool'> False <class 'bool'>\n"
     ]
    }
   ],
   "source": [
    "print(\"整型 int: \", int(\"123\"), int(12.34), type(int(\"123\")), type(int(12.34)))\n",
    "print(\"浮点型 float: \", float(\"12.34\"), type(float(\"12.34\")))\n",
    "print(\"字符型 str: \", str(1.23), type(str(1.23)), str(100), type(str(100)))\n",
    "print(\"布尔型 bool: \", bool(1), type(bool(1)), bool(\"\"), type(bool(\"\")))"
   ]
  },
  {
   "cell_type": "markdown",
   "metadata": {},
   "source": [
    "## 函数定义\n"
   ]
  },
  {
   "cell_type": "markdown",
   "metadata": {},
   "source": [
    "### 对参数类型检查\n"
   ]
  },
  {
   "cell_type": "code",
   "execution_count": 24,
   "metadata": {},
   "outputs": [],
   "source": [
    "def my_abs(x):\n",
    "    if not isinstance(x, (int, float)):\n",
    "        raise TypeError(\"Bad operand type\")\n",
    "    if x >= 0:\n",
    "        return x\n",
    "    else:\n",
    "        return -x"
   ]
  },
  {
   "cell_type": "markdown",
   "metadata": {},
   "source": [
    "### 空函数 pass 占位\n"
   ]
  },
  {
   "cell_type": "code",
   "execution_count": 25,
   "metadata": {},
   "outputs": [],
   "source": [
    "def nop():\n",
    "    pass"
   ]
  },
  {
   "cell_type": "markdown",
   "metadata": {},
   "source": [
    "## 函数返回多个值\n"
   ]
  },
  {
   "cell_type": "code",
   "execution_count": 26,
   "metadata": {},
   "outputs": [
    {
     "name": "stdout",
     "output_type": "stream",
     "text": [
      "返回值: (151.96152422706632, 70.0) 151.96152422706632 70.0\n"
     ]
    }
   ],
   "source": [
    "import math\n",
    "\n",
    "\n",
    "def move(x, y, step, angle=0):\n",
    "    nx = x + step * math.cos(angle)\n",
    "    ny = y - step * math.sin(angle)\n",
    "    return nx, ny\n",
    "\n",
    "\n",
    "r = move(100, 100, 60, math.pi / 6)\n",
    "x, y = move(100, 100, 60, math.pi / 6)\n",
    "print(\"返回值:\", r, x, y)"
   ]
  },
  {
   "cell_type": "markdown",
   "metadata": {},
   "source": [
    "## 默认参数\n"
   ]
  },
  {
   "cell_type": "markdown",
   "metadata": {},
   "source": [
    "- 默认参数必须指向不变对象\n"
   ]
  },
  {
   "cell_type": "code",
   "execution_count": 27,
   "metadata": {},
   "outputs": [
    {
     "name": "stdout",
     "output_type": "stream",
     "text": [
      "25 125\n"
     ]
    }
   ],
   "source": [
    "def power(x, n=2):\n",
    "    s = 1\n",
    "    while n > 0:\n",
    "        n -= 1\n",
    "        s *= x\n",
    "    return s\n",
    "\n",
    "\n",
    "print(power(5), power(5, 3))"
   ]
  },
  {
   "cell_type": "markdown",
   "metadata": {},
   "source": [
    "- 多个默认参数\n"
   ]
  },
  {
   "cell_type": "code",
   "execution_count": 28,
   "metadata": {},
   "outputs": [
    {
     "name": "stdout",
     "output_type": "stream",
     "text": [
      "name: Search, gender: F, age: 6, city: beijing\n",
      "name: Bob, gender: M, age: 6, city: beijing\n",
      "name: Adam, gender: M, age: 6, city: shanghai\n"
     ]
    }
   ],
   "source": [
    "def enroll(name, gender, age=6, city=\"beijing\"):\n",
    "    return f\"name: {name}, gender: {gender}, age: {age}, city: {city}\"\n",
    "\n",
    "\n",
    "print(enroll(\"Search\", \"F\"))\n",
    "print(enroll(\"Bob\", \"M\"))\n",
    "# 不按照默认顺序传参\n",
    "print(enroll(\"Adam\", \"M\", city=\"shanghai\"))"
   ]
  },
  {
   "cell_type": "markdown",
   "metadata": {},
   "source": [
    "- 默认参数为可变对象\n"
   ]
  },
  {
   "cell_type": "code",
   "execution_count": 29,
   "metadata": {},
   "outputs": [
    {
     "name": "stdout",
     "output_type": "stream",
     "text": [
      "['END']\n"
     ]
    }
   ],
   "source": [
    "def add_end(L=None):\n",
    "    if L is None:\n",
    "        L = []\n",
    "    L.append(\"END\")\n",
    "    return L\n",
    "\n",
    "\n",
    "print(add_end())"
   ]
  },
  {
   "cell_type": "markdown",
   "metadata": {},
   "source": [
    "## 可变参数 \\*\n"
   ]
  },
  {
   "cell_type": "markdown",
   "metadata": {},
   "source": [
    "允许传入 0 个或任意个参数，在函数调用时自动组装为一个 `tuple`\n"
   ]
  },
  {
   "cell_type": "markdown",
   "metadata": {},
   "source": [
    "- 传递 list 或 tuple\n"
   ]
  },
  {
   "cell_type": "code",
   "execution_count": 30,
   "metadata": {},
   "outputs": [
    {
     "name": "stdout",
     "output_type": "stream",
     "text": [
      "14 84\n"
     ]
    }
   ],
   "source": [
    "def calc(numbers):\n",
    "    sum = 0\n",
    "    for n in numbers:\n",
    "        sum += n**2\n",
    "    return sum\n",
    "\n",
    "\n",
    "print(calc([1, 2, 3]), calc((1, 3, 5, 7)))"
   ]
  },
  {
   "cell_type": "markdown",
   "metadata": {},
   "source": [
    "- 可变参数的传递形式\n"
   ]
  },
  {
   "cell_type": "code",
   "execution_count": 31,
   "metadata": {},
   "outputs": [
    {
     "name": "stdout",
     "output_type": "stream",
     "text": [
      "14\n",
      "84\n",
      "14\n",
      "84\n"
     ]
    }
   ],
   "source": [
    "def calc_dynamic(*numbers):\n",
    "    sum = 0\n",
    "    for n in numbers:\n",
    "        sum += n**2\n",
    "    return sum\n",
    "\n",
    "\n",
    "print(calc_dynamic(1, 2, 3))\n",
    "print(calc_dynamic(1, 3, 5, 7))\n",
    "\n",
    "nums1 = [1, 2, 3]\n",
    "nums2 = [1, 3, 5, 7]\n",
    "\n",
    "print(calc_dynamic(nums1[0], nums1[1], nums1[2]))\n",
    "print(calc_dynamic(*nums2))"
   ]
  },
  {
   "cell_type": "markdown",
   "metadata": {},
   "source": [
    "## 关键字参数 \\*\\*\n"
   ]
  },
  {
   "cell_type": "markdown",
   "metadata": {},
   "source": [
    "关键字参数允许传入 0 个或任意个含参数名的参数，在函数内部自动组装为一个 dict 字典\n",
    "\n",
    "关键字参数可以扩展函数的功能，可以用作可选项\n"
   ]
  },
  {
   "cell_type": "code",
   "execution_count": 32,
   "metadata": {},
   "outputs": [
    {
     "name": "stdout",
     "output_type": "stream",
     "text": [
      "name: Michael, age: 20, other: {}\n",
      "name: Bob, age: 35, other: {'city': 'beijing'}\n",
      "name: Adam, age: 45, other: {'gender': 'M', 'job': 'Engineer'}\n",
      "name: Jack, age: 24, other: {'city': 'beijing', 'job': 'Engineer'}\n",
      "name: Jack, age: 24, other: {'city': 'beijing', 'job': 'Engineer'}\n"
     ]
    }
   ],
   "source": [
    "def person(name, age, **kw):\n",
    "    print(f\"name: {name}, age: {age}, other: {kw}\")\n",
    "\n",
    "\n",
    "person(\"Michael\", 20)\n",
    "person(\"Bob\", 35, city=\"beijing\")\n",
    "person(\"Adam\", 45, gender=\"M\", job=\"Engineer\")\n",
    "\n",
    "dict1 = {\"city\": \"beijing\", \"job\": \"Engineer\"}\n",
    "\n",
    "person(\"Jack\", 24, city=dict1[\"city\"], job=dict1[\"job\"])\n",
    "person(\"Jack\", 24, **dict1)"
   ]
  },
  {
   "cell_type": "markdown",
   "metadata": {},
   "source": [
    "## 命名关键字参数\n"
   ]
  },
  {
   "cell_type": "markdown",
   "metadata": {},
   "source": [
    "分隔符号 `*` 后的参数被认为是命名关键字参数\n"
   ]
  },
  {
   "cell_type": "markdown",
   "metadata": {},
   "source": [
    "- 检查关键字参数重是否包含 city 和 job 参数\n"
   ]
  },
  {
   "cell_type": "code",
   "execution_count": 33,
   "metadata": {},
   "outputs": [
    {
     "name": "stdout",
     "output_type": "stream",
     "text": [
      "name: Jack, age: 24, other: {'city': 'Beijing', 'addr': 'chaoyang', 'zipcode': 123456}\n"
     ]
    }
   ],
   "source": [
    "def person_name(name, age, **kw):\n",
    "    if \"city\" in kw:\n",
    "        pass\n",
    "    if \"job\" in kw:\n",
    "        pass\n",
    "    print(f\"name: {name}, age: {age}, other: {kw}\")\n",
    "\n",
    "\n",
    "# 这种方法仍旧可以绕过参数\n",
    "person_name(\"Jack\", 24, city=\"Beijing\", addr=\"chaoyang\", zipcode=123456)"
   ]
  },
  {
   "cell_type": "markdown",
   "metadata": {},
   "source": [
    "- 限制关键字参数名字\n"
   ]
  },
  {
   "cell_type": "code",
   "execution_count": 34,
   "metadata": {},
   "outputs": [
    {
     "name": "stdout",
     "output_type": "stream",
     "text": [
      "Jack 25 Beijing Engineer\n"
     ]
    }
   ],
   "source": [
    "def person_limit(name, age, *, city, job):\n",
    "    print(name, age, city, job)\n",
    "\n",
    "\n",
    "person_limit(\"Jack\", 25, city=\"Beijing\", job=\"Engineer\")"
   ]
  },
  {
   "cell_type": "markdown",
   "metadata": {},
   "source": [
    "- 函数定义中存在了可变参数，后面的命名关键字参数就不需要分割符 `*`\n"
   ]
  },
  {
   "cell_type": "code",
   "execution_count": 35,
   "metadata": {},
   "outputs": [],
   "source": [
    "def person_has_dynamic(name, age, *args, city, job):\n",
    "    print(name, age, args, city, job)\n",
    "\n",
    "\n",
    "# 未传入参数名，调用将报错\n",
    "# person_has_dynamic('Jack', 24, 'Beijing', 'Engineer')"
   ]
  },
  {
   "cell_type": "markdown",
   "metadata": {},
   "source": [
    "- 命名关键字参数可以有缺省值，从而简化调用\n"
   ]
  },
  {
   "cell_type": "code",
   "execution_count": 36,
   "metadata": {},
   "outputs": [
    {
     "name": "stdout",
     "output_type": "stream",
     "text": [
      "Jack 20 Beijing Player\n"
     ]
    }
   ],
   "source": [
    "def person_default_value(name, age, *, city=\"Beijing\", job):\n",
    "    print(name, age, city, job)\n",
    "\n",
    "\n",
    "person_default_value(\"Jack\", 20, job=\"Player\")"
   ]
  },
  {
   "cell_type": "markdown",
   "metadata": {},
   "source": [
    "## 参数祖合\n"
   ]
  },
  {
   "cell_type": "markdown",
   "metadata": {},
   "source": [
    "定义顺序优先级：必选参数 > 默认参数 > 可变参数 > 命名关键字参数 > 关键字参数\n"
   ]
  },
  {
   "cell_type": "code",
   "execution_count": 37,
   "metadata": {},
   "outputs": [
    {
     "name": "stdout",
     "output_type": "stream",
     "text": [
      "a=1, b=2, c=0, args=(), kwargs={}\n",
      "a=1, b=2, c=3, args=(), kwargs={}\n",
      "a=1, b=2, c=3, args=('a', 'b'), kwargs={}\n",
      "a=1, b=2, c=3, args=('a', 'b'), kwargs={'x': 9}\n",
      "a=1, b=2, c=0, d=99, kwargs={'ext': None}\n",
      "a=1, b=2, c=3, args=(4,), kwargs={'d': 99, 'x': '#'}\n",
      "a=3, b=5, c=7, d=True, kwargs={'e': [], 'x': '#'}\n"
     ]
    }
   ],
   "source": [
    "def f1(a, b, c=0, *args, **kwargs):\n",
    "    print(f\"a={a}, b={b}, c={c}, args={args}, kwargs={kwargs}\")\n",
    "\n",
    "\n",
    "def f2(a, b, c=0, *, d, **kwargs):\n",
    "    print(f\"a={a}, b={b}, c={c}, d={d}, kwargs={kwargs}\")\n",
    "\n",
    "\n",
    "f1(1, 2)\n",
    "f1(1, 2, c=3)\n",
    "f1(1, 2, 3, \"a\", \"b\")\n",
    "f1(1, 2, 3, \"a\", \"b\", x=9)\n",
    "f2(1, 2, d=99, ext=None)\n",
    "\n",
    "args = (1, 2, 3, 4)\n",
    "kwargs = {\"d\": 99, \"x\": \"#\"}\n",
    "f1(*args, **kwargs)\n",
    "\n",
    "args = (3, 5, 7)\n",
    "kwargs = {\"d\": True, \"e\": [], \"x\": \"#\"}\n",
    "f2(*args, **kwargs)"
   ]
  },
  {
   "cell_type": "markdown",
   "metadata": {},
   "source": [
    "## 递归函数\n"
   ]
  },
  {
   "cell_type": "markdown",
   "metadata": {},
   "source": [
    "### 斐波那契\n"
   ]
  },
  {
   "cell_type": "code",
   "execution_count": 38,
   "metadata": {},
   "outputs": [
    {
     "name": "stdout",
     "output_type": "stream",
     "text": [
      "1\n",
      "93326215443944152681699238856266700490715968264381621468592963895217599993229915608941463976156518286253697920827223758251185210916864000000000000000000000000\n"
     ]
    }
   ],
   "source": [
    "def fact(n):\n",
    "    if n == 1:\n",
    "        return 1\n",
    "    return n * fact(n - 1)\n",
    "\n",
    "\n",
    "print(fact(1))\n",
    "print(fact(100))\n",
    "# 栈溢出\n",
    "# print(fact(1000))"
   ]
  },
  {
   "cell_type": "markdown",
   "metadata": {},
   "source": [
    "### 尾递归优化\n"
   ]
  },
  {
   "cell_type": "markdown",
   "metadata": {},
   "source": [
    "return 语句不包含表达式\n",
    "\n",
    "递归本身无论调用多少次，都只会用到一个栈帧，不会出现栈溢出的情况\n"
   ]
  },
  {
   "cell_type": "code",
   "execution_count": 39,
   "metadata": {},
   "outputs": [
    {
     "name": "stdout",
     "output_type": "stream",
     "text": [
      "120\n",
      "120\n",
      "120\n",
      "120\n",
      "120\n"
     ]
    }
   ],
   "source": [
    "def fact_call(n):\n",
    "    return fact_inter(n, 1)\n",
    "\n",
    "\n",
    "def fact_inter(num, product):\n",
    "    if num == 1:\n",
    "        return product\n",
    "    return fact_inter(num - 1, num * product)\n",
    "\n",
    "\n",
    "print(fact_inter(5, 1))\n",
    "print(fact_inter(4, 5))\n",
    "print(fact_inter(3, 20))\n",
    "print(fact_inter(2, 60))\n",
    "print(fact_inter(1, 120))"
   ]
  },
  {
   "cell_type": "markdown",
   "metadata": {},
   "source": [
    "### 汉诺塔\n"
   ]
  },
  {
   "cell_type": "markdown",
   "metadata": {},
   "source": [
    "请编写 move(n, a, b, c) 函数，它接收参数 n，表示 3 个柱子 A、B、C 中第 1 个柱子 A 的盘子数量，然后打印出把所有盘子从 A 借助 B 移动到 C 的方法\n"
   ]
  },
  {
   "cell_type": "code",
   "execution_count": 40,
   "metadata": {},
   "outputs": [
    {
     "name": "stdout",
     "output_type": "stream",
     "text": [
      "A -> C\n",
      "A -> c\n",
      "C -> B\n",
      "A -> c\n",
      "B -> A\n",
      "B -> c\n",
      "A -> C\n"
     ]
    }
   ],
   "source": [
    "def move(n, a, b, c):\n",
    "    if n == 1:\n",
    "        print(a, \"->\", c)\n",
    "    else:\n",
    "        move(n - 1, a, c, b)\n",
    "        print(a, \"->\", \"c\")\n",
    "        move(n - 1, b, a, c)\n",
    "\n",
    "\n",
    "move(3, \"A\", \"B\", \"C\")"
   ]
  }
 ],
 "metadata": {
  "kernelspec": {
   "display_name": "venv",
   "language": "python",
   "name": "python3"
  },
  "language_info": {
   "codemirror_mode": {
    "name": "ipython",
    "version": 3
   },
   "file_extension": ".py",
   "mimetype": "text/x-python",
   "name": "python",
   "nbconvert_exporter": "python",
   "pygments_lexer": "ipython3",
   "version": "3.12.2"
  }
 },
 "nbformat": 4,
 "nbformat_minor": 2
}
