{
 "cells": [
  {
   "cell_type": "markdown",
   "metadata": {},
   "source": [
    "## 输入输出、基本类型、变量\n"
   ]
  },
  {
   "cell_type": "markdown",
   "metadata": {},
   "source": [
    "### 输入输出\n"
   ]
  },
  {
   "cell_type": "code",
   "execution_count": 1,
   "metadata": {},
   "outputs": [
    {
     "name": "stdout",
     "output_type": "stream",
     "text": [
      "name is: zhangsan\n"
     ]
    }
   ],
   "source": [
    "name = input(\"Please enter your name.\")\n",
    "print(\"name is:\", name)"
   ]
  },
  {
   "cell_type": "markdown",
   "metadata": {},
   "source": [
    "### 整数和浮点\n"
   ]
  },
  {
   "cell_type": "code",
   "execution_count": 2,
   "metadata": {},
   "outputs": [
    {
     "name": "stdout",
     "output_type": "stream",
     "text": [
      "1 100 -90 0 65280 10000000000 2712847316 1230000000.0 1230000000.0 3.14 -9.01\n"
     ]
    }
   ],
   "source": [
    "print(1, 100, -90, 0, 0xFF00, 10_000_000_000, 0xA1B2_C3D4, 1.23e9, 12.3e8, 3.14, -9.01)"
   ]
  },
  {
   "cell_type": "markdown",
   "metadata": {},
   "source": [
    "### 字符串\n"
   ]
  },
  {
   "cell_type": "code",
   "execution_count": 3,
   "metadata": {},
   "outputs": [
    {
     "name": "stdout",
     "output_type": "stream",
     "text": [
      "I'm \"OK\"!\n",
      "I\\'m \\\"OK\\\"!\n",
      "line1\n",
      "lin2\n",
      "lin3\n",
      "\n"
     ]
    }
   ],
   "source": [
    "print('I\\'m \"OK\"!')\n",
    "print(r\"I\\'m \\\"OK\\\"!\")\n",
    "print(\n",
    "    \"\"\"line1\n",
    "lin2\n",
    "lin3\n",
    "\"\"\"\n",
    ")"
   ]
  },
  {
   "cell_type": "markdown",
   "metadata": {},
   "source": [
    "### 布尔\n"
   ]
  },
  {
   "cell_type": "code",
   "execution_count": 4,
   "metadata": {},
   "outputs": [
    {
     "name": "stdout",
     "output_type": "stream",
     "text": [
      "True\n",
      "False\n",
      "True\n",
      "False\n",
      "True\n",
      "False\n",
      "False\n",
      "True\n",
      "True\n",
      "True\n",
      "False\n",
      "False\n",
      "True\n",
      "True\n"
     ]
    }
   ],
   "source": [
    "print(True)\n",
    "print(False)\n",
    "print(3 > 2)\n",
    "print(3 > 5)\n",
    "print(True and True)\n",
    "print(True and False)\n",
    "print(False and False)\n",
    "print(5 > 3 > 1)\n",
    "print(True or True)\n",
    "print(True or False)\n",
    "print(False or False)\n",
    "print(not True)\n",
    "print(not False)\n",
    "print(not 1 > 2)"
   ]
  },
  {
   "cell_type": "markdown",
   "metadata": {},
   "source": [
    "### 空值\n"
   ]
  },
  {
   "cell_type": "code",
   "execution_count": 5,
   "metadata": {},
   "outputs": [
    {
     "name": "stdout",
     "output_type": "stream",
     "text": [
      "None\n"
     ]
    }
   ],
   "source": [
    "print(None)"
   ]
  },
  {
   "cell_type": "markdown",
   "metadata": {},
   "source": [
    "### 常量\n"
   ]
  },
  {
   "cell_type": "code",
   "execution_count": 6,
   "metadata": {},
   "outputs": [
    {
     "name": "stdout",
     "output_type": "stream",
     "text": [
      "3.1415926585793237\n"
     ]
    }
   ],
   "source": [
    "PI = 3.1415926585793238462643383176502\n",
    "print(PI)"
   ]
  },
  {
   "cell_type": "markdown",
   "metadata": {},
   "source": [
    "### 运算\n"
   ]
  },
  {
   "cell_type": "code",
   "execution_count": 7,
   "metadata": {},
   "outputs": [
    {
     "name": "stdout",
     "output_type": "stream",
     "text": [
      "2.6666666666666665\n",
      "2\n",
      "2\n"
     ]
    }
   ],
   "source": [
    "print(8 / 3)  # 除法\n",
    "print(8 // 3)  # 整除\n",
    "print(8 % 3)  # 取模"
   ]
  },
  {
   "cell_type": "markdown",
   "metadata": {},
   "source": [
    "### 字符串编码\n"
   ]
  },
  {
   "cell_type": "code",
   "execution_count": 8,
   "metadata": {},
   "outputs": [
    {
     "name": "stdout",
     "output_type": "stream",
     "text": [
      "包含中文的字符串 str\n",
      "20013 22269 65\n",
      "中 丮 B\n",
      "中文 中文\n"
     ]
    }
   ],
   "source": [
    "print(\"包含中文的字符串 str\")\n",
    "print(ord(\"中\"), ord(\"国\"), ord(\"A\"))\n",
    "print(chr(20013), chr(20014), chr(66))\n",
    "print(\"\\u4e2d\\u6587\", \"中文\")"
   ]
  },
  {
   "cell_type": "markdown",
   "metadata": {},
   "source": [
    "### 字节 bytes\n"
   ]
  },
  {
   "cell_type": "code",
   "execution_count": 9,
   "metadata": {},
   "outputs": [
    {
     "name": "stdout",
     "output_type": "stream",
     "text": [
      "b'ABC' ABC\n",
      "b'\\xe4\\xb8\\xad\\xe6\\x96\\x87' 中文\n",
      "3 2 3 6\n"
     ]
    }
   ],
   "source": [
    "print(\"ABC\".encode(\"ascii\"), b\"ABC\".decode(\"ascii\"))\n",
    "print(\"中文\".encode(\"utf-8\"), b\"\\xe4\\xb8\\xad\\xe6\\x96\\x87\".decode(\"utf-8\"))\n",
    "print(len(\"ABC\"), len(\"中文\"), len(b\"ABC\"), len(b\"\\xe4\\xb8\\xad\\xe6\\x96\\x87\"))\n",
    "# 报错\n",
    "# print('中文'.encode('ascii'))"
   ]
  },
  {
   "cell_type": "markdown",
   "metadata": {},
   "source": [
    "### 格式化输出\n"
   ]
  },
  {
   "cell_type": "markdown",
   "metadata": {},
   "source": [
    "- 传统格式化输出\n"
   ]
  },
  {
   "cell_type": "code",
   "execution_count": 10,
   "metadata": {},
   "outputs": [
    {
     "name": "stdout",
     "output_type": "stream",
     "text": [
      " 3-01\n",
      "3.14\n",
      "Age: 25, Gender: True\n",
      "growth rate: 7 %\n"
     ]
    }
   ],
   "source": [
    "print(\"%2d-%02d\" % (3, 1))\n",
    "print(\"%.2f\" % 3.1415926)\n",
    "print(\"Age: %s, Gender: %s\" % (25, True))\n",
    "print(\"growth rate: %d %%\" % 7)"
   ]
  },
  {
   "cell_type": "markdown",
   "metadata": {},
   "source": [
    "- 使用 format() 格式化输出\n"
   ]
  },
  {
   "cell_type": "code",
   "execution_count": 11,
   "metadata": {},
   "outputs": [
    {
     "name": "stdout",
     "output_type": "stream",
     "text": [
      "Hello, 小明, 成绩提升了 17.1%. !。\n"
     ]
    }
   ],
   "source": [
    "print(\"Hello, {0}, 成绩提升了 {1:.1f}%. {2}。\".format(\"小明\", 17.125, \"!\"))"
   ]
  },
  {
   "cell_type": "markdown",
   "metadata": {},
   "source": [
    "- 使用 f-string 格式化输出\n"
   ]
  },
  {
   "cell_type": "code",
   "execution_count": 12,
   "metadata": {},
   "outputs": [
    {
     "name": "stdout",
     "output_type": "stream",
     "text": [
      "The area of a circle with radius 2.5 is 19.62\n"
     ]
    }
   ],
   "source": [
    "r = 2.5\n",
    "s = 3.14 * r**2\n",
    "print(f\"The area of a circle with radius {r} is {s:.2f}\")"
   ]
  },
  {
   "cell_type": "markdown",
   "metadata": {},
   "source": [
    "## 列表 list 和 元组 tuple\n"
   ]
  },
  {
   "cell_type": "markdown",
   "metadata": {},
   "source": [
    "元祖 tuple：占用空间小\n"
   ]
  },
  {
   "cell_type": "markdown",
   "metadata": {},
   "source": [
    "### list 列表\n"
   ]
  },
  {
   "cell_type": "code",
   "execution_count": 13,
   "metadata": {},
   "outputs": [
    {
     "name": "stdout",
     "output_type": "stream",
     "text": [
      "['Michael', 'Bob', 'Tracy']\n",
      "3\n",
      "Michael\n",
      "Tracy\n",
      "添加 ['Michael', 'Bob', 'Tracy', 'Adam']\n",
      "插入 ['Michael', 'Jack', 'Bob', 'Tracy', 'Adam']\n",
      "删除 ['Michael', 'Jack', 'Bob', 'Tracy']\n",
      "删除索引为 1 的项 ['Michael', 'Bob', 'Tracy']\n",
      "修改 ['Michael', 'Alice', 'Tracy']\n"
     ]
    }
   ],
   "source": [
    "classmates = [\"Michael\", \"Bob\", \"Tracy\"]\n",
    "\n",
    "print(classmates)\n",
    "\n",
    "print(len(classmates))  # 列表长度\n",
    "print(classmates[0])  # 列表第一项\n",
    "print(classmates[-1])  # 列表最后一项\n",
    "\n",
    "classmates.append(\"Adam\")\n",
    "print(\"添加\", classmates)\n",
    "\n",
    "classmates.insert(1, \"Jack\")\n",
    "print(\"插入\", classmates)\n",
    "\n",
    "classmates.pop()\n",
    "print(\"删除\", classmates)\n",
    "\n",
    "classmates.pop(1)\n",
    "print(\"删除索引为 1 的项\", classmates)\n",
    "\n",
    "classmates[1] = \"Alice\"\n",
    "print(\"修改\", classmates)"
   ]
  },
  {
   "cell_type": "markdown",
   "metadata": {},
   "source": [
    "### 二维数组\n"
   ]
  },
  {
   "cell_type": "code",
   "execution_count": 14,
   "metadata": {},
   "outputs": [
    {
     "name": "stdout",
     "output_type": "stream",
     "text": [
      "4\n",
      "jsp\n"
     ]
    }
   ],
   "source": [
    "s = [\"Python\", \"Java\", [\"asp\", \"jsp\"], \"scheme\"]\n",
    "print(len(s))\n",
    "print(s[2][1])"
   ]
  },
  {
   "cell_type": "markdown",
   "metadata": {},
   "source": [
    "### tuple 元组\n",
    "\n",
    "元组初始化后不能修改\n"
   ]
  },
  {
   "cell_type": "code",
   "execution_count": 15,
   "metadata": {},
   "outputs": [
    {
     "name": "stdout",
     "output_type": "stream",
     "text": [
      "Bob\n",
      "Tracy\n",
      "(1, 2)\n",
      "()\n",
      "1\n",
      "(1,)\n"
     ]
    }
   ],
   "source": [
    "classmates = (\"Michael\", \"Bob\", \"Tracy\")\n",
    "print(classmates[1])\n",
    "print(classmates[-1])\n",
    "\n",
    "t = (1, 2)\n",
    "print(t)  # (1, 2)\n",
    "\n",
    "t = ()\n",
    "print(t)  # ()\n",
    "\n",
    "t = 1\n",
    "print(t)  # 1，因为 () 会被识别为运算符\n",
    "\n",
    "t = (1,)\n",
    "print(t)  # (1,)"
   ]
  },
  {
   "cell_type": "markdown",
   "metadata": {},
   "source": [
    "### 可\"变\" tuple\n"
   ]
  },
  {
   "cell_type": "code",
   "execution_count": 16,
   "metadata": {},
   "outputs": [
    {
     "name": "stdout",
     "output_type": "stream",
     "text": [
      "('a', 'b', ['X', 'Y'])\n"
     ]
    }
   ],
   "source": [
    "t = (\"a\", \"b\", [\"A\", \"B\"])\n",
    "t[2][0] = \"X\"\n",
    "t[2][1] = \"Y\"\n",
    "print(t)  # ('a', 'b', ['X', 'Y'])"
   ]
  },
  {
   "cell_type": "markdown",
   "metadata": {},
   "source": [
    "## 条件判断\n"
   ]
  },
  {
   "cell_type": "markdown",
   "metadata": {},
   "source": [
    "### if else\n"
   ]
  },
  {
   "cell_type": "code",
   "execution_count": 17,
   "metadata": {},
   "outputs": [
    {
     "name": "stdout",
     "output_type": "stream",
     "text": [
      "your age is 20\n",
      "adult\n",
      "00前\n"
     ]
    }
   ],
   "source": [
    "age = 20\n",
    "if age >= 10:\n",
    "    print(\"your age is\", age)\n",
    "    print(\"adult\")\n",
    "\n",
    "birth = int(input(\"birth: \"))\n",
    "if birth < 2000:\n",
    "    print(\"00前\")\n",
    "else:\n",
    "    print(\"00后\")"
   ]
  },
  {
   "cell_type": "markdown",
   "metadata": {},
   "source": [
    "### match 匹配\n"
   ]
  },
  {
   "cell_type": "code",
   "execution_count": 18,
   "metadata": {},
   "outputs": [
    {
     "name": "stdout",
     "output_type": "stream",
     "text": [
      "score is B.\n"
     ]
    }
   ],
   "source": [
    "score = \"B\"\n",
    "match score:\n",
    "    case \"A\":\n",
    "        print(\"score is A.\")\n",
    "    case \"B\":\n",
    "        print(\"score is B.\")\n",
    "    case \"C\":\n",
    "        print(\"score is C.\")\n",
    "    case _:\n",
    "        print(\"score is ???.\")"
   ]
  },
  {
   "cell_type": "markdown",
   "metadata": {},
   "source": [
    "### match 复杂匹配\n"
   ]
  },
  {
   "cell_type": "code",
   "execution_count": 19,
   "metadata": {},
   "outputs": [
    {
     "name": "stdout",
     "output_type": "stream",
     "text": [
      "11 ~ 18 years old\n"
     ]
    }
   ],
   "source": [
    "age = 15\n",
    "match age:\n",
    "    case x if x < 10:\n",
    "        print(f\"< 10 years old: {x}\")\n",
    "    case 10:\n",
    "        print(\"10 years old\")\n",
    "    case 11 | 12 | 13 | 14 | 15 | 16 | 17 | 18:\n",
    "        print(\"11 ~ 18 years old\")\n",
    "    case 19:\n",
    "        print(\"19 years old\")\n",
    "    case _:\n",
    "        print(\"not sure\")"
   ]
  },
  {
   "cell_type": "markdown",
   "metadata": {},
   "source": [
    "### match 匹配列表\n"
   ]
  },
  {
   "cell_type": "code",
   "execution_count": 20,
   "metadata": {},
   "outputs": [
    {
     "name": "stdout",
     "output_type": "stream",
     "text": [
      "gcc compile: hello.c, world.c\n"
     ]
    }
   ],
   "source": [
    "args = [\"gcc\", \"hello.c\", \"world.c\"]\n",
    "match args:\n",
    "    case [\"gcc\"]:\n",
    "        print(\"gcc: missing source file(s)\")\n",
    "    case [\"gcc\", file1, *files]:\n",
    "        print(\"gcc compile: \" + file1 + \", \" + \", \".join(files))\n",
    "    case [\"clean\"]:\n",
    "        print(\"clean\")\n",
    "    case _:\n",
    "        print(\"invalid command\")"
   ]
  },
  {
   "cell_type": "markdown",
   "metadata": {},
   "source": [
    "## 循环\n"
   ]
  },
  {
   "cell_type": "markdown",
   "metadata": {},
   "source": [
    "### for in 循环\n"
   ]
  },
  {
   "cell_type": "code",
   "execution_count": 21,
   "metadata": {},
   "outputs": [
    {
     "name": "stdout",
     "output_type": "stream",
     "text": [
      "Michael\n",
      "Bob\n",
      "Tracy\n",
      "[0, 1, 2, 3, 4, 5, 6, 7, 8, 9, 10, 11, 12, 13, 14, 15, 16, 17, 18, 19, 20, 21, 22, 23, 24, 25, 26, 27, 28, 29, 30, 31, 32, 33, 34, 35, 36, 37, 38, 39, 40, 41, 42, 43, 44, 45, 46, 47, 48, 49, 50, 51, 52, 53, 54, 55, 56, 57, 58, 59, 60, 61, 62, 63, 64, 65, 66, 67, 68, 69, 70, 71, 72, 73, 74, 75, 76, 77, 78, 79, 80, 81, 82, 83, 84, 85, 86, 87, 88, 89, 90, 91, 92, 93, 94, 95, 96, 97, 98, 99]\n"
     ]
    }
   ],
   "source": [
    "names = [\"Michael\", \"Bob\", \"Tracy\"]\n",
    "for name in names:\n",
    "    print(name)\n",
    "print(list(range(100)))"
   ]
  },
  {
   "cell_type": "markdown",
   "metadata": {},
   "source": [
    "### for in range\n"
   ]
  },
  {
   "cell_type": "code",
   "execution_count": 22,
   "metadata": {},
   "outputs": [
    {
     "name": "stdout",
     "output_type": "stream",
     "text": [
      "5050\n"
     ]
    }
   ],
   "source": [
    "sum = 0\n",
    "for i in range(101):\n",
    "    sum += i\n",
    "print(sum)"
   ]
  },
  {
   "cell_type": "markdown",
   "metadata": {},
   "source": [
    "### while 循环\n"
   ]
  },
  {
   "cell_type": "code",
   "execution_count": 23,
   "metadata": {},
   "outputs": [
    {
     "name": "stdout",
     "output_type": "stream",
     "text": [
      "2500\n"
     ]
    }
   ],
   "source": [
    "sum = 0\n",
    "n = 99\n",
    "while n > 0:\n",
    "    sum += n\n",
    "    n -= 2\n",
    "print(sum)"
   ]
  },
  {
   "cell_type": "markdown",
   "metadata": {},
   "source": [
    "### break 退出循环\n"
   ]
  },
  {
   "cell_type": "code",
   "execution_count": 24,
   "metadata": {},
   "outputs": [
    {
     "name": "stdout",
     "output_type": "stream",
     "text": [
      "11\n"
     ]
    }
   ],
   "source": [
    "n = 1\n",
    "while n <= 100:\n",
    "    if n > 10:\n",
    "        break\n",
    "    n += 1\n",
    "print(n)"
   ]
  },
  {
   "cell_type": "markdown",
   "metadata": {},
   "source": [
    "### continue 退出循环\n"
   ]
  },
  {
   "cell_type": "code",
   "execution_count": 25,
   "metadata": {},
   "outputs": [
    {
     "name": "stdout",
     "output_type": "stream",
     "text": [
      "1\n",
      "3\n",
      "5\n",
      "7\n",
      "9\n",
      "11\n",
      "13\n",
      "15\n",
      "17\n",
      "19\n",
      "21\n",
      "23\n",
      "25\n",
      "27\n",
      "29\n",
      "31\n",
      "33\n",
      "35\n",
      "37\n",
      "39\n",
      "41\n",
      "43\n",
      "45\n",
      "47\n",
      "49\n",
      "51\n",
      "53\n",
      "55\n",
      "57\n",
      "59\n",
      "61\n",
      "63\n",
      "65\n",
      "67\n",
      "69\n",
      "71\n",
      "73\n",
      "75\n",
      "77\n",
      "79\n",
      "81\n",
      "83\n",
      "85\n",
      "87\n",
      "89\n",
      "91\n",
      "93\n",
      "95\n",
      "97\n",
      "99\n",
      "101\n"
     ]
    }
   ],
   "source": [
    "n = 0\n",
    "while n <= 100:\n",
    "    n += 1\n",
    "    if n % 2 == 0:\n",
    "        continue\n",
    "    print(n)"
   ]
  },
  {
   "cell_type": "markdown",
   "metadata": {},
   "source": [
    "## 字典 dict\n"
   ]
  },
  {
   "cell_type": "markdown",
   "metadata": {},
   "source": [
    "dict：空间换时间\n"
   ]
  },
  {
   "cell_type": "code",
   "execution_count": 26,
   "metadata": {},
   "outputs": [],
   "source": [
    "names = [\"Michael\", \"Bob\", \"Tracy\"]\n",
    "scores = [95, 85, 75]\n",
    "d = {\"Michael\": 95, \"Bob\": 85, \"Tracy\": 75}"
   ]
  },
  {
   "cell_type": "markdown",
   "metadata": {},
   "source": [
    "- dict 中，字符串、整数都是不可变的，因此可以作为 key；\n",
    "- list 由于是可变的，因此不可以作为 key；\n"
   ]
  },
  {
   "cell_type": "code",
   "execution_count": 27,
   "metadata": {},
   "outputs": [],
   "source": [
    "# 会报错\n",
    "# key = [1, 2, 3]\n",
    "# d[key] = 'a list'"
   ]
  },
  {
   "cell_type": "markdown",
   "metadata": {},
   "source": [
    "### 查看 dict 中的 value\n"
   ]
  },
  {
   "cell_type": "code",
   "execution_count": 28,
   "metadata": {},
   "outputs": [
    {
     "name": "stdout",
     "output_type": "stream",
     "text": [
      "95\n"
     ]
    }
   ],
   "source": [
    "print(d[\"Michael\"])"
   ]
  },
  {
   "cell_type": "markdown",
   "metadata": {},
   "source": [
    "### 判断 dict 中 key 是否存在\n"
   ]
  },
  {
   "cell_type": "code",
   "execution_count": 29,
   "metadata": {},
   "outputs": [
    {
     "name": "stdout",
     "output_type": "stream",
     "text": [
      "False True\n",
      "None None\n"
     ]
    }
   ],
   "source": [
    "print(\"Alice\" in d, \"Michael\" in d)\n",
    "print(d.get(\"Alice\", None), d.get(\"MIchael\", None))"
   ]
  },
  {
   "cell_type": "markdown",
   "metadata": {},
   "source": [
    "### 删除 dict 中某个 key\n"
   ]
  },
  {
   "cell_type": "code",
   "execution_count": 30,
   "metadata": {},
   "outputs": [
    {
     "name": "stdout",
     "output_type": "stream",
     "text": [
      "dict is: {'Bob': 85, 'Tracy': 75}\n"
     ]
    }
   ],
   "source": [
    "d.pop(\"Michael\")\n",
    "print(\"dict is:\", d)"
   ]
  },
  {
   "cell_type": "markdown",
   "metadata": {},
   "source": [
    "## 集合 set\n"
   ]
  },
  {
   "cell_type": "code",
   "execution_count": 31,
   "metadata": {},
   "outputs": [
    {
     "name": "stdout",
     "output_type": "stream",
     "text": [
      "{1, 2, 3}\n"
     ]
    }
   ],
   "source": [
    "s = {1, 2, 3}  # 等价于 set([1, 2, 3])\n",
    "print(s)"
   ]
  },
  {
   "cell_type": "markdown",
   "metadata": {},
   "source": [
    "### 去重\n"
   ]
  },
  {
   "cell_type": "code",
   "execution_count": 32,
   "metadata": {},
   "outputs": [
    {
     "name": "stdout",
     "output_type": "stream",
     "text": [
      "{1, 2, 3}\n"
     ]
    }
   ],
   "source": [
    "s = {1, 2, 3, 3, 3, 2, 2}\n",
    "print(s)"
   ]
  },
  {
   "cell_type": "markdown",
   "metadata": {},
   "source": [
    "### 添加\n"
   ]
  },
  {
   "cell_type": "code",
   "execution_count": 33,
   "metadata": {},
   "outputs": [
    {
     "name": "stdout",
     "output_type": "stream",
     "text": [
      "{1, 2, 3, 4}\n"
     ]
    }
   ],
   "source": [
    "s.add(4)\n",
    "print(s)"
   ]
  },
  {
   "cell_type": "markdown",
   "metadata": {},
   "source": [
    "### 删除\n"
   ]
  },
  {
   "cell_type": "code",
   "execution_count": 34,
   "metadata": {},
   "outputs": [
    {
     "name": "stdout",
     "output_type": "stream",
     "text": [
      "{1, 2, 4}\n"
     ]
    }
   ],
   "source": [
    "s.remove(3)\n",
    "print(s)"
   ]
  },
  {
   "cell_type": "markdown",
   "metadata": {},
   "source": [
    "### 交集 & 和并集 |\n"
   ]
  },
  {
   "cell_type": "code",
   "execution_count": 35,
   "metadata": {},
   "outputs": [
    {
     "name": "stdout",
     "output_type": "stream",
     "text": [
      "{2, 3}\n",
      "{1, 2, 3, 4}\n"
     ]
    }
   ],
   "source": [
    "s1 = {1, 2, 3}\n",
    "s2 = {2, 3, 4}\n",
    "print(s1 & s2)  # {2, 3}\n",
    "print(s1 | s2)  # {1, 2, 3, 4}"
   ]
  },
  {
   "cell_type": "markdown",
   "metadata": {},
   "source": [
    "## 不可变对象 str\n"
   ]
  },
  {
   "cell_type": "markdown",
   "metadata": {},
   "source": [
    "### list 可变对象\n"
   ]
  },
  {
   "cell_type": "code",
   "execution_count": 36,
   "metadata": {},
   "outputs": [
    {
     "name": "stdout",
     "output_type": "stream",
     "text": [
      "['a', 'b', 'c']\n"
     ]
    }
   ],
   "source": [
    "a = [\"c\", \"b\", \"a\"]\n",
    "a.sort()\n",
    "print(a)"
   ]
  },
  {
   "cell_type": "markdown",
   "metadata": {},
   "source": [
    "### str 不可变对象\n"
   ]
  },
  {
   "cell_type": "code",
   "execution_count": 37,
   "metadata": {},
   "outputs": [
    {
     "name": "stdout",
     "output_type": "stream",
     "text": [
      "abc Abc\n"
     ]
    }
   ],
   "source": [
    "a = \"abc\"\n",
    "b = a.replace(\"a\", \"A\")  # replace 作用在 'abc' 上，而不是变量 a 上\n",
    "print(a, b)"
   ]
  }
 ],
 "metadata": {
  "kernelspec": {
   "display_name": "venv",
   "language": "python",
   "name": "python3"
  },
  "language_info": {
   "codemirror_mode": {
    "name": "ipython",
    "version": 3
   },
   "file_extension": ".py",
   "mimetype": "text/x-python",
   "name": "python",
   "nbconvert_exporter": "python",
   "pygments_lexer": "ipython3",
   "version": "3.12.2"
  }
 },
 "nbformat": 4,
 "nbformat_minor": 2
}
